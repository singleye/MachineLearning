{
 "cells": [
  {
   "cell_type": "code",
   "execution_count": 155,
   "metadata": {
    "collapsed": true
   },
   "outputs": [],
   "source": [
    "import numpy as np\n",
    "\n",
    "# 'x' should be dotted with theta\n",
    "def sigmoid(z):\n",
    "    return 1/(1+np.exp(-z))\n",
    "\n",
    "def cost(expect, output):\n",
    "    error = expect - output\n",
    "    return np.sum(error*error)/2\n",
    "\n",
    "def cost_derivative(expect, output):\n",
    "    return output-expect\n",
    "\n",
    "def deriv_z(z):\n",
    "    return z*(1-z)\n",
    "\n",
    "def sigmoid_prime(x):\n",
    "    return deriv_z(sigmoid(x))"
   ]
  },
  {
   "cell_type": "code",
   "execution_count": 156,
   "metadata": {
    "scrolled": true
   },
   "outputs": [
    {
     "name": "stdout",
     "output_type": "stream",
     "text": [
      "Init weight1:\n",
      "[[ 0.59456029  0.47075843  0.66510925  0.75135713]\n",
      " [ 0.61555251  0.43763178  0.46919414  0.477619  ]\n",
      " [ 0.29740538  0.13567938  0.28012725  0.75077295]]\n",
      "Init weight2:\n",
      "[[ 0.14908379]\n",
      " [ 0.02082039]\n",
      " [ 0.4847758 ]\n",
      " [ 0.31539323]]\n"
     ]
    }
   ],
   "source": [
    "# create training data\n",
    "input = np.array([[0, 0, 1],\n",
    "                 [0, 1, 0],\n",
    "                 [0, 1, 1],\n",
    "                 [1, 0, 0],\n",
    "                 [1, 0, 1]])\n",
    "\n",
    "# create the label related with the input training data\n",
    "output = np.array([[0],\n",
    "                  [1],\n",
    "                  [0],\n",
    "                  [1],\n",
    "                  [1]])\n",
    "\n",
    "# network design:\n",
    "# input(layer_1): 3 nodes\n",
    "#    weights: 3x4 matrix\n",
    "# layer_2: 4 nodes\n",
    "#    weights: 4x1 matrix\n",
    "# output: 1 node\n",
    "weight_layer_1 = np.random.rand(3, 4)\n",
    "weight_layer_2 = np.random.rand(4, 1)\n",
    "\n",
    "print \"Init weight1:\"\n",
    "print weight_layer_1\n",
    "\n",
    "print \"Init weight2:\"\n",
    "print weight_layer_2\n"
   ]
  },
  {
   "cell_type": "markdown",
   "metadata": {
    "collapsed": true
   },
   "source": [
    "# 神经网络\n",
    "\n",
    "定义第$l^{th}$层第$j^{th}$个神经元的输入：$z_j^{(l)}=\\sum_{k=1}^n w_{jk}^{(l-1)} a_k^{(l-1)} + b_j^{(l)}$\n",
    "\n",
    "该神经元的输出：$a=f(z)=sigmoid(z)$\n",
    "\n",
    "注，第一层神经元的输入就是采样数据，不需要计算z值，这层采样数据直接通过权重计算输入到第二层的神经元。\n",
    "\n",
    "# 反向传播算法\n",
    "\n",
    "## 代价函数\n",
    "定义代价函数：$cost = {1 \\over 2} \\sum (y^{(i)} - a^{(i)})^2$\n",
    "\n",
    "## 神经元错误量 $\\delta_j^{(l)}$\n",
    "\n",
    "每个神经元的输入记为'z'，经过激活函数'f(z)'生成激活值'a'，通常情况下激活函数使用sigmoid()。那么假设对于每个神经元的输入'z'做一点微小的改变记为 $\\Delta z$，由这个改变引起的代价变化记为这个神经元的错误量$\\delta_j^{(l)}$，从这个定义可以看出来这是一个代价函数相对于神经元的输入'z'的偏导数。\n",
    "\n",
    "定义 $\\delta_j^{(l)}$ 为 $l^th$层中的第$j^th$个神经元的错误量，记作：$\\delta_j^{(l)} =\\frac{\\partial C}{\\partial z_j^{(l)}}$\n",
    "\n",
    "经过数学推导可以得出结论：\n",
    "\n",
    "* 最后一层（L层）第j个神经元的错误量：\n",
    "\n",
    "$\\delta_j^{(L)} = \\frac{\\partial C}{\\partial z_j^{(l)}}$ = $\\frac{\\partial C}{\\partial a_j^{(L)}}$ $\\frac{\\partial a_j^{(L)}}{\\partial z_j^{(L)}}$ = $-(y-a_j^{(L)}) \\bigodot [a_j^{(L)}(1-a_j^{(L)})] $\n",
    "\n",
    "y：采样的结果\n",
    "\n",
    "$a_j^{(L)}$：样本输入计算的结果\n",
    "\n",
    "* 其余各层(l层)第j个神经元的错误量：\n",
    "\n",
    "$\\delta_j^{(l)} =\\frac{\\partial C}{\\partial z_j^{(l)}}$ = $(\\sum \\delta_j^{(l+1)} \\cdot w_{ij}^{(l)}) \\bigodot [a_j^{(l)}(1-a_j^{(l)})]$\n",
    "\n",
    "因为首先可以算出来每一层的激活量$a_j^{(l)}$，那么可以看出来除了最后一层外的其他层的错误量可以靠后面一层的错误量计算出来，直至推算到最后一层$\\delta_j^{(L)}$。\n",
    "\n",
    "因此反向传播算法也就是从最后一层往前一层一层计算的过程，与计算激活量的方向正好相反，因此得名反向传播。\n",
    "\n",
    "## 权重调整$\\frac{\\partial C}{\\partial w_{jk}^{(l)}}$及偏置调整$\\frac{\\partial C}{\\partial b_{j}^{(l)}}$\n",
    "\n",
    "观察每个神经元的输入$z_j^{(l)}=\\sum_{k=1}^n w_{jk}^{(l-1)} a_k^{(l-1)} + b_j^{(l)}$可以发现神经网络计算过程中最重要的是要确定两个量权重w和偏置b。\n",
    "\n",
    "仿照错误量计算方法将问题进行一下转化，是否可以计算出代价函数相对于权重和偏置的变化速率（偏微分），然后通过乘以一个小数字（学习速率）来一点一点降低代价函数的输出，从而逼近最终需要的权重及偏置值呢？\n",
    "\n",
    "因此可以将问题转化为求$\\frac{\\partial C}{\\partial w_{jk}^{(l)}}$和$\\frac{\\partial C}{\\partial b_j^{(l)}}$\n",
    "\n",
    "通过推导可以得出：\n",
    "\n",
    "$\\frac{\\partial C}{\\partial w_{jk}^{(l)}} = \\delta_j^{(l+1)} a_k^{(l)}$\n",
    "\n",
    "$\\frac{\\partial C}{\\partial b_{jk}^{(l)}} = \\delta_j^{(l)}$\n",
    "\n",
    "基于前面对于错误量$\\delta_j^{(l)}$就可以非常简单的得到相应的结果。\n",
    "\n",
    "那么最终对于权重及偏置的调整可以这样做：\n",
    "\n",
    "$w_{new}=w - \\eta \\frac{\\partial C}{\\partial w_{jk}^{(l)}}$\n",
    "\n",
    "$b_{new}=b - \\eta \\frac{\\partial C}{\\partial b_{jk}^{(l)}}$\n",
    "\n",
    "其中 $ \\eta $是一个非常小的正数，这个数字也被叫做“学习速率”，通过这个值的调整可以控制拟合的速度。\n"
   ]
  },
  {
   "cell_type": "code",
   "execution_count": 157,
   "metadata": {
    "scrolled": false
   },
   "outputs": [],
   "source": [
    "# learning rate\n",
    "eta = 0.1\n",
    "\n",
    "loop = 0\n",
    "\n",
    "x=[]\n",
    "y=[]\n",
    "while loop < 50000:\n",
    "    # feed forward\n",
    "    z_layer_2 = np.dot(input, weight_layer_1)\n",
    "    a_layer_2 = sigmoid(z_layer_2)\n",
    "\n",
    "    z_layer_3 = np.dot(a_layer_2, weight_layer_2)\n",
    "    a_layer_3 = sigmoid(z_layer_3)\n",
    "    \n",
    "    #print \"Z2:\", z_layer_2\n",
    "    #print \"A2:\", a_layer_2\n",
    "\n",
    "    #print \"Z3:\", z_layer_3\n",
    "    # a_layer_2 is the output\n",
    "    #print \"A3:\", a_layer_3\n",
    "\n",
    "    if loop % 100 == 0:\n",
    "        # cost\n",
    "        c = cost(output, a_layer_3)\n",
    "        #print \"[%d] Cost: %f\" % (loop, c)\n",
    "        #print \"Perception: \", a_layer_3\n",
    "        x.append(loop)\n",
    "        y.append(c)\n",
    "    loop += 1\n",
    "\n",
    "    # calculate delta_3\n",
    "    delta_layer_3 = cost_derivative(output, a_layer_3)*deriv_z(a_layer_3)\n",
    "    #print \"Delta3:\", delta_layer_3\n",
    "\n",
    "    # calculate new weight layer 2\n",
    "    # input matrix: 5x1, 5x4\n",
    "    # output matrix: 4x1 = 4x5, 5x1\n",
    "    weight_layer_2 -= eta*np.dot(a_layer_2.T, delta_layer_3)\n",
    "    #print \"New weight2:\", weight_layer_2\n",
    "\n",
    "    # calculate delta_2\n",
    "    delta_layer_2 = np.dot(delta_layer_3, weight_layer_2.T)*deriv_z(a_layer_2)\n",
    "    #print \"Delta2:\", delta_layer_2\n",
    "\n",
    "    # since layer1 is the input layer, there is NO delta_layer_1\n",
    "\n",
    "    # calculate new weight layer 1\n",
    "    # input matrix: 5x3, 5x4\n",
    "    # output matrix: 3x4 = 3x5, 5x4\n",
    "    weight_layer_1 -= eta*np.dot(input.T, delta_layer_2)\n",
    "    #print \"New weight1:\", weight_layer_1\n"
   ]
  },
  {
   "cell_type": "code",
   "execution_count": 158,
   "metadata": {},
   "outputs": [
    {
     "data": {
      "image/png": "[encoded data removed]",
      "text/plain": [
       "<matplotlib.figure.Figure at 0x1094d92d0>"
      ]
     },
     "metadata": {},
     "output_type": "display_data"
    }
   ],
   "source": [
    "import matplotlib.pyplot as plt\n",
    "plt.plot(x, y)\n",
    "plt.xlabel(\"Epoch\")\n",
    "plt.ylabel(\"Cost\")\n",
    "plt.show()"
   ]
  }
 ],
 "metadata": {
  "kernelspec": {
   "display_name": "Python 2",
   "language": "python",
   "name": "python2"
  },
  "language_info": {
   "codemirror_mode": {
    "name": "ipython",
    "version": 2
   },
   "file_extension": ".py",
   "mimetype": "text/x-python",
   "name": "python",
   "nbconvert_exporter": "python",
   "pygments_lexer": "ipython2",
   "version": "2.7.10"
  }
 },
 "nbformat": 4,
 "nbformat_minor": 2
}
